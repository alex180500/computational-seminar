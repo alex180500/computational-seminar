{
 "cells": [
  {
   "cell_type": "markdown",
   "id": "2489a998",
   "metadata": {},
   "source": [
    "<img align=\"left\" width=\"200\" src=\"https://git-scm.com/images/logo@2x.png\"><br/><br/><br/><br/>\n",
    "\n",
    "# Git guide for Physicists\n",
    "_**by Alessandro Romancino (2022 Computational Physics course)**_"
   ]
  },
  {
   "cell_type": "markdown",
   "id": "aeb5ddf6",
   "metadata": {},
   "source": [
    "### What is Git?\n",
    "\n",
    "Git is a Version Control System (VCS) basically it's a way to track history of changes on a project and collaborate with other people. [More about Git here.](https://docs.github.com/en/get-started/using-git/about-git)\n",
    "\n",
    "Github is a code hosting website for Git repositories which provides many useful features such as integrated wiki, release downloads, issue tracking, code review, milestones and much more. [More about Github here.](https://docs.github.com/en/get-started/quickstart/hello-world)\n",
    "\n",
    "### Installation\n",
    "\n",
    "To start with Github you can [make a free account here](https://github.com).\n",
    "You should set up Git on your machine by [downloading it here](https://git-scm.com/downloads).\n",
    "\n",
    "We are using this Jupyter Notebook for running commands using the `!` magic command (which will run the code in your shell)."
   ]
  },
  {
   "cell_type": "code",
   "execution_count": null,
   "id": "a67ae36d",
   "metadata": {},
   "outputs": [],
   "source": [
    "! git"
   ]
  },
  {
   "cell_type": "markdown",
   "id": "26195550",
   "metadata": {},
   "source": [
    "### Git workflow\n",
    "\n",
    "<img align=\"left\" width=\"500\" src=\"https://rogerdudler.github.io/git-guide/img/trees.png\">\n",
    "<br/><br/><br/><br/><br/><br/><br/><br/><br/><br/>\n",
    "\n",
    "Your **repository** (often called _repo_) consists of trees curated by git. You have your local files or **Working Directory**, then you will add all the changes you make on the **Index** and then you will put all into a **commit** to send all files to the **HEAD**. After this you will push your changes to your **remote** repository on Github."
   ]
  },
  {
   "cell_type": "markdown",
   "id": "e8c820d3",
   "metadata": {},
   "source": [
    "### Git branching\n",
    "\n",
    "<img align=\"left\" width=\"500\" src=\"https://rogerdudler.github.io/git-guide/img/branches.png\">\n",
    "<br/><br/><br/><br/><br/><br/><br/><br/><br/><br/>\n",
    "\n",
    "When pushing your changes you could send them to a **branch** instead, and have different versions existing at the same time. Then whenever the branch is done you can then **merge** it back (but pay attention, you will need to resolve **conflicts**).\n",
    "\n",
    "You can check the repository history with `git log`."
   ]
  },
  {
   "cell_type": "markdown",
   "id": "c33b90e8",
   "metadata": {},
   "source": [
    "### Contributing to other projects\n",
    "\n",
    "I will suggest you to [look at the official docs](https://docs.github.com/en/get-started/quickstart/contributing-to-projects)\n",
    "\n",
    "If you want to contribute to other projects you first will need to **fork** their github (which will create you a copy, clone your own fork and then make your changes.  \n",
    "After this\n",
    "\n",
    "If you need to update your fork then you just need to first `git remote add upstream original_repo_link.git` and then you will be able to just fetch the **upstream** and then use **rebase** to merge them and put all of your commits to the end of the history. Look here if you want to know more on [how to sync a fork](https://docs.github.com/en/pull-requests/collaborating-with-pull-requests/working-with-forks/syncing-a-fork) or [here on stackoverflow](https://stackoverflow.com/questions/7244321/how-do-i-update-or-sync-a-forked-repository-on-github)."
   ]
  },
  {
   "cell_type": "code",
   "execution_count": null,
   "id": "a66e61b9",
   "metadata": {},
   "outputs": [],
   "source": [
    "# git fetch upstream\n",
    "# git checkout main\n",
    "# git rebase upstream/main (or git merge upstream/main)"
   ]
  },
  {
   "cell_type": "markdown",
   "id": "a92b4fef",
   "metadata": {},
   "source": [
    "### How to get this notebook\n",
    "\n",
    "Well you just need to **clone** my repository and then you can do whatever you want"
   ]
  },
  {
   "cell_type": "code",
   "execution_count": null,
   "id": "ea94cbf2",
   "metadata": {},
   "outputs": [],
   "source": [
    "# git clone https://github.com/alex180500/computational-seminar"
   ]
  },
  {
   "cell_type": "markdown",
   "id": "e2bb10f7",
   "metadata": {},
   "source": [
    "You now add a simple txt file called `physics.txt` with some text in it"
   ]
  },
  {
   "cell_type": "code",
   "execution_count": 4,
   "id": "46cbcc09",
   "metadata": {},
   "outputs": [],
   "source": [
    "# echo this_is_really_weird > physics.txt"
   ]
  },
  {
   "cell_type": "markdown",
   "id": "61303637",
   "metadata": {},
   "source": [
    "Now we add this to our "
   ]
  },
  {
   "cell_type": "markdown",
   "id": "d4a9fa6a",
   "metadata": {},
   "source": [
    "### How to upload on Github\n",
    "\n",
    "First of all we need to create a folder for our project named `project_folder`"
   ]
  },
  {
   "cell_type": "code",
   "execution_count": null,
   "id": "4a636e06",
   "metadata": {},
   "outputs": [],
   "source": [
    "# cd project_folder\n",
    "# git init"
   ]
  },
  {
   "cell_type": "markdown",
   "id": "cc6cf980",
   "metadata": {},
   "source": [
    "### Make a good Github page\n",
    "\n",
    "To make a decent enough Github page you need at least:\n",
    "\n",
    "* a good `README.md` markdown file to explain everything about your repository. You can read more on the [Basic Syntax of Markdown here](https://www.markdownguide.org/basic-syntax/). Github uses Github Flavored Markdown (GFM) which enhances Markdown for use in Github, please [learn more about GFM here](https://github.github.com/gfm/)\n",
    "\n",
    "* a `LICENSE` to make clear your intentions with your software. Please refer to [choosealicense.com](https://choosealicense.com/) to learn more about open source licences. If you want your software to be closed source (**damnit!**) then read about [creative commons](https://creativecommons.org/)\n",
    "\n",
    "* a `.gitignore` file which will contain all types of files that will be excluded from your commits. Please refer to [the official Git documentation](https://git-scm.com/book/en/v2/Git-Basics-Recording-Changes-to-the-Repository#_ignoring).\n",
    "\n",
    "Examples for all of these are provided in this github repository: https://github.com/alex180500/computational-seminar"
   ]
  },
  {
   "cell_type": "markdown",
   "id": "71f9d8b4",
   "metadata": {},
   "source": [
    "### Git resources\n",
    "\n",
    "If I don't remember something I mostly use [this simple git guide](https://rogerdudler.github.io/git-guide/).  \n",
    "If you screw up anything I highly sugest to read [Oh Shit, Git!?!](https://ohshitgit.com/).\n",
    "\n",
    "I also like the [Github documentation](https://docs.github.com/en/get-started/using-git/about-git#example-contribute-to-an-existing-repository) and if you are lazy there is also a simple git tutorial directly built in:"
   ]
  },
  {
   "cell_type": "code",
   "execution_count": null,
   "id": "78029a38",
   "metadata": {},
   "outputs": [],
   "source": [
    "! git help tutorial"
   ]
  },
  {
   "cell_type": "markdown",
   "id": "37a5a73c",
   "metadata": {},
   "source": [
    "### Keeping Git up to date\n",
    "\n",
    "**Linux/Mac**  \n",
    "The best way is to update via your package manager.\n",
    "\n",
    "**Windows**  \n",
    "You can either download it again from the website or use this command (_introduced in Git 2.16.2_)."
   ]
  },
  {
   "cell_type": "code",
   "execution_count": null,
   "id": "625bb825",
   "metadata": {},
   "outputs": [],
   "source": [
    "# git update-git-for-windows"
   ]
  }
 ],
 "metadata": {
  "kernelspec": {
   "display_name": "Python 3 (ipykernel)",
   "language": "python",
   "name": "python3"
  },
  "language_info": {
   "codemirror_mode": {
    "name": "ipython",
    "version": 3
   },
   "file_extension": ".py",
   "mimetype": "text/x-python",
   "name": "python",
   "nbconvert_exporter": "python",
   "pygments_lexer": "ipython3",
   "version": "3.10.8"
  }
 },
 "nbformat": 4,
 "nbformat_minor": 5
}
