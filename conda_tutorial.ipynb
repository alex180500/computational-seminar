{
 "cells": [
  {
   "cell_type": "markdown",
   "id": "87014aa7",
   "metadata": {},
   "source": [
    "<img align=\"left\" width=\"300\" src=\"https://docs.conda.io/projects/conda/en/latest/_images/conda_logo.svg\"><br/><br/><br/>\n",
    "\n",
    "# Conda guide for Physicists\n",
    "_**by Alessandro Romancino (2022 Computational Physics course)**_"
   ]
  },
  {
   "cell_type": "markdown",
   "id": "07c4562d",
   "metadata": {},
   "source": [
    "### What is Conda?\n",
    "\n",
    "Conda is a package management system that works for any language (we will focus on Python here). [More about conda here.](https://docs.conda.io/projects/conda/en/latest/index.html)  \n",
    "It is mostly known because of the [Anaconda](https://www.anaconda.com/about-us) project which ships Python among many other packages.\n",
    "\n",
    "Frankly speaking, I find Anaconda too heavy and cluttered, I much rather use [Miniconda](https://docs.conda.io/projects/conda/en/stable/user-guide/install/download.html#anaconda-or-miniconda).\n",
    "\n",
    "### Installation\n",
    "\n",
    "To start using conda I would just go and [download it from here](https://docs.conda.io/en/latest/miniconda.html).\n",
    "\n",
    "In order to use conda you can use directly the anaconda prompt (which should be available after installation).\n",
    "If you want to use your shell of choice just use the `conda init shell` command **from the anaconda prompt** which sets it all up for you.  \n",
    "If correctly setup you should see `(base)` in the beginning of your command line."
   ]
  },
  {
   "cell_type": "code",
   "execution_count": null,
   "id": "7fdc39ff",
   "metadata": {
    "scrolled": true
   },
   "outputs": [],
   "source": [
    "# conda init powershell (windows)\n",
    "# conda init bash (most linux distros)\n",
    "# conda init zsh (mac)"
   ]
  },
  {
   "cell_type": "code",
   "execution_count": null,
   "id": "68f9483f",
   "metadata": {
    "scrolled": true
   },
   "outputs": [],
   "source": [
    "! conda"
   ]
  },
  {
   "cell_type": "markdown",
   "id": "67701620",
   "metadata": {},
   "source": [
    "### Conda-forge and first things to do\n",
    "\n",
    "The first thing I always do after the initial setup is to set my default channel to conda-forge. conda-forge is a community driven Github organization that contains all the packages repositories as **feedstock**. [Learn more here.](https://conda-forge.org/)\n",
    "\n",
    "In order to set up conda-forge as default you just need these two lines of script"
   ]
  },
  {
   "cell_type": "code",
   "execution_count": null,
   "id": "468aaeb8",
   "metadata": {},
   "outputs": [],
   "source": [
    "! conda config --add channels conda-forge\n",
    "! config --set channel_priority strict"
   ]
  },
  {
   "cell_type": "markdown",
   "id": "e8084a9b",
   "metadata": {},
   "source": [
    "Now you should update your base environment to get the **latest conda version**"
   ]
  },
  {
   "cell_type": "code",
   "execution_count": null,
   "id": "1db4fc37",
   "metadata": {},
   "outputs": [],
   "source": [
    "! conda update conda"
   ]
  },
  {
   "cell_type": "markdown",
   "id": "44a9fca3",
   "metadata": {},
   "source": [
    "### Keep your Python clean\n",
    "\n",
    "**Use environments!** for every project you make, make an environment with your desired python version.  \n",
    "Then install all the packages you need using `conda install package-name`"
   ]
  },
  {
   "cell_type": "code",
   "execution_count": null,
   "id": "e1009dca",
   "metadata": {},
   "outputs": [],
   "source": [
    "# conda create -n computational_physics python=3.10\n",
    "# conda install numpy"
   ]
  },
  {
   "cell_type": "markdown",
   "id": "3bf06557",
   "metadata": {},
   "source": [
    "You can install multiple packages by writing them consecutively.  \n",
    "You can install a specific version of a package by using the `==` operator.\n",
    "You can use the `=` operator to install the latest version of a particular verison number."
   ]
  },
  {
   "cell_type": "code",
   "execution_count": null,
   "id": "59963104",
   "metadata": {},
   "outputs": [],
   "source": [
    "# conda install tqdm black\n",
    "# conda install matplotlib==3.6.1\n",
    "# conda install scipy=1.8"
   ]
  },
  {
   "cell_type": "markdown",
   "id": "dd0a84c5",
   "metadata": {},
   "source": [
    "### Useful commands\n",
    "\n",
    "These are the most useful commands I use. Please learn more in the [conda documentation here](https://docs.conda.io/projects/conda/en/latest/user-guide/getting-started.html).  \n",
    "You can also use the amazing [Conda cheat sheet by clicking here](https://docs.conda.io/projects/conda/en/latest/_downloads/843d9e0198f2a193a3484886fa28163c/conda-cheatsheet.pdf)."
   ]
  },
  {
   "cell_type": "markdown",
   "id": "ff45dbe6",
   "metadata": {},
   "source": [
    "List all environments"
   ]
  },
  {
   "cell_type": "code",
   "execution_count": null,
   "id": "381a076f",
   "metadata": {},
   "outputs": [],
   "source": [
    "! conda env list"
   ]
  },
  {
   "cell_type": "markdown",
   "id": "40018d58",
   "metadata": {},
   "source": [
    "Change environment"
   ]
  },
  {
   "cell_type": "code",
   "execution_count": null,
   "id": "0936cb30",
   "metadata": {},
   "outputs": [],
   "source": [
    "# conda activate environment-name"
   ]
  },
  {
   "cell_type": "markdown",
   "id": "718c4817",
   "metadata": {},
   "source": [
    "Return to base environment (you may have to do this until you go back to \"base\")"
   ]
  },
  {
   "cell_type": "code",
   "execution_count": null,
   "id": "f7c211cc",
   "metadata": {},
   "outputs": [],
   "source": [
    "# conda deactivate"
   ]
  },
  {
   "cell_type": "markdown",
   "id": "fa31799a",
   "metadata": {},
   "source": [
    "Delete environment"
   ]
  },
  {
   "cell_type": "code",
   "execution_count": null,
   "id": "2f92c9f5",
   "metadata": {},
   "outputs": [],
   "source": [
    "# conda remove -n environment-name --all"
   ]
  },
  {
   "cell_type": "markdown",
   "id": "bf5a9cc6",
   "metadata": {},
   "source": [
    "Export or import a package to different machines"
   ]
  },
  {
   "cell_type": "code",
   "execution_count": null,
   "id": "2c197a92",
   "metadata": {},
   "outputs": [],
   "source": [
    "# conda env export environment-name>ENV.yml\n",
    "# conda env create -n environment-name --file ENV.yml"
   ]
  },
  {
   "cell_type": "markdown",
   "id": "88c9823f",
   "metadata": {},
   "source": [
    "List all packages"
   ]
  },
  {
   "cell_type": "code",
   "execution_count": null,
   "id": "60b4a548",
   "metadata": {},
   "outputs": [],
   "source": [
    "! conda list"
   ]
  },
  {
   "cell_type": "markdown",
   "id": "7b3a436c",
   "metadata": {},
   "source": [
    "Update all packages in current environment"
   ]
  },
  {
   "cell_type": "code",
   "execution_count": null,
   "id": "44dcaefe",
   "metadata": {},
   "outputs": [],
   "source": [
    "# conda update --all"
   ]
  },
  {
   "cell_type": "markdown",
   "id": "cbf8a4ea",
   "metadata": {},
   "source": [
    "Remove a package in the current environment (along with some dependencies)"
   ]
  },
  {
   "cell_type": "code",
   "execution_count": null,
   "id": "708242ec",
   "metadata": {},
   "outputs": [],
   "source": [
    "# conda uninstall package-name"
   ]
  },
  {
   "cell_type": "markdown",
   "id": "c28afd8a",
   "metadata": {},
   "source": [
    "### Using conda and pip\n",
    "\n",
    "If you are having problems installing a package using conda or if the package has no conda repository then you can use the `pip` package manager within a conda environment. I highly suggest to follow the [official guidelines in the conda documentation](https://docs.conda.io/projects/conda/en/latest/user-guide/tasks/manage-environments.html#pip-in-env).\n",
    "\n",
    "You should install all possible packages with conda and then use `pip install my_package` to install the missing ones. You shouldn't update the environment using `conda update --all` but instead just update the package with `pip install --upgrade my_package`.\n",
    "\n",
    "If I need major changes to my conda-pip environment, then I would just make a new environment."
   ]
  },
  {
   "cell_type": "markdown",
   "id": "2049bb42",
   "metadata": {},
   "source": [
    "### Using Jupyter Notebook\n",
    "\n",
    "To use either [Jupyter Notebook or Jupyterlab](https://jupyter.org/) you can install them on any of the environments you use and just run your `jupyter notebook` with your environment activated.\n",
    "\n",
    "The suggested way though is better, you can swap between environments inside of Jupyter and saves some hard drive space.\n",
    "It's explained in this [stackoverflow answer](https://stackoverflow.com/questions/39604271/conda-environments-not-showing-up-in-jupyter-notebook) and in the [official anaconda github](https://github.com/Anaconda-Platform/nb_conda_kernels#installation).\n",
    "\n",
    "In your base environment (or another environment you use just for this scope) you should install either Jupyter Notebook or Jupyterlab and the **nb_conda_kernels**.  \n",
    "Then you install your **ipykernel** in your work environment et voila, the kernel will appear on jupyter."
   ]
  },
  {
   "cell_type": "code",
   "execution_count": null,
   "id": "08f0c8d1",
   "metadata": {},
   "outputs": [],
   "source": [
    "# conda install notebook or conda install jupyterlab\n",
    "# conda install nb_conda_kernels"
   ]
  },
  {
   "cell_type": "code",
   "execution_count": null,
   "id": "2f9d56b8",
   "metadata": {},
   "outputs": [],
   "source": [
    "# conda activate my-work-environment\n",
    "# conda install ipykernel"
   ]
  },
  {
   "cell_type": "markdown",
   "id": "aabf55e5",
   "metadata": {},
   "source": [
    "### Other installations\n",
    "\n",
    "If you want a version of Miniconda with conda-forge already setup you can check out [Miniforge](https://github.com/conda-forge/miniforge/#download).\n",
    "\n",
    "If you are interested in a faster version of conda go ahead and check out [Mamba](https://mamba.readthedocs.io/en/latest/index.html).  \n",
    "The Mamba documentation suggest to install Mamba with the conda-forge channel already setup as [Mambaforge](https://mamba.readthedocs.io/en/latest/installation.html)."
   ]
  }
 ],
 "metadata": {
  "kernelspec": {
   "display_name": "Python 3 (ipykernel)",
   "language": "python",
   "name": "python3"
  },
  "language_info": {
   "codemirror_mode": {
    "name": "ipython",
    "version": 3
   },
   "file_extension": ".py",
   "mimetype": "text/x-python",
   "name": "python",
   "nbconvert_exporter": "python",
   "pygments_lexer": "ipython3",
   "version": "3.10.8"
  }
 },
 "nbformat": 4,
 "nbformat_minor": 5
}
